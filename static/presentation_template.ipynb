{
 "cells": [
  {
   "cell_type": "code",
   "execution_count": 1,
   "metadata": {
    "collapsed": false,
    "slideshow": {
     "slide_type": "skip"
    }
   },
   "outputs": [],
   "source": [
    "# Add all necessary imports here\n",
    "import matplotlib.pyplot as plt\n",
    "%matplotlib inline\n",
    "plt.style.reload_library()\n",
    "plt.style.use(\"ggplot\")"
   ]
  },
  {
   "cell_type": "markdown",
   "metadata": {
    "slideshow": {
     "slide_type": "skip"
    }
   },
   "source": [
    "### Cover Slide 1"
   ]
  },
  {
   "cell_type": "raw",
   "metadata": {
    "slideshow": {
     "slide_type": "slide"
    }
   },
   "source": [
    "<image>\n",
    "<section data-background=\"img/dna-colours.jpg\" data-state=\"img-transparent no-title-footer\">\n",
    "<div class=\"intro-body\">\n",
    "<div class=\"intro_h1\"><h1>Phasing and Imputation</h1></div>\n",
    "<h3>Local Clustering model in genomics</h3>\n",
    "<p><strong><span class=\"a\">Student</span></strong> <span class=\"b\"></span> <span>Thomas Dias Alves</span></p>\n",
    "<p><strong><span class=\"a\">Supervisor</span></strong> <span class=\"b\"></span> <span>Michael Blum</span></p>\n",
    "<p><strong><span class=\"a\">Supervisor</span></strong> <span class=\"b\"></span> <span>Julien Mairal</span></p>\n",
    "<p>&nbsp;</p>\n",
    "<p>&nbsp;</p>\n",
    "<img src=\"img/logo_timc.png\"  style=\"width: 10%; height: 10%\">\n",
    "<img src=\"img/inria.png\" style=\"width: 10%; height: 10%\">\n",
    "<img src=\"img/logo-ljk.png\" style=\"width: 10%; height: 10%\">\n",
    "</div>\n",
    "</section>\n",
    "</image>"
   ]
  },
  {
   "cell_type": "markdown",
   "metadata": {
    "slideshow": {
     "slide_type": "slide"
    }
   },
   "source": [
    "# Problem\n",
    "## Phasing"
   ]
  },
  {
   "cell_type": "markdown",
   "metadata": {},
   "source": [
    "Humans are diploid. We have two copies of each chromosome. The genotype is the sum of these two copies.\n",
    "Given the genotype for a number of individuals, we can find the haplotypes by haplotype phasing techniques.\n",
    "\n",
    "<img src=\"img/ambiguous.png\"/>"
   ]
  },
  {
   "cell_type": "markdown",
   "metadata": {
    "slideshow": {
     "slide_type": "subslide"
    }
   },
   "source": [
    "## Imputation\n",
    "\n",
    "Due to the experimentation, there can be a lot of missing data.\n",
    "But many methods are only working for a full dataset."
   ]
  },
  {
   "cell_type": "markdown",
   "metadata": {
    "slideshow": {
     "slide_type": "slide"
    }
   },
   "source": [
    "# State of the Art\n",
    "## Fastphase\n",
    "Bayesian model and EM algorithm\n",
    "<img src=\"img/hapmap_multiclust_quarter.jpg\"/>"
   ]
  },
  {
   "cell_type": "markdown",
   "metadata": {
    "slideshow": {
     "slide_type": "slide"
    }
   },
   "source": [
    "# An optimization formulation"
   ]
  },
  {
   "cell_type": "markdown",
   "metadata": {
    "collapsed": true,
    "slideshow": {
     "slide_type": "fragment"
    }
   },
   "source": [
    "$$\n",
    "\\begin{aligned}\n",
    "& \\underset{A,S}{\\text{minimize}}\n",
    "& & \\sum_{i = 0}^{n-1} \\sum_{j = 0}^{m-1}\n",
    "\\| h_{i,j}^{1} - a_{s_{i,j}^{1},j}\\|^2 + \\| h_{i,j}^{2} - a_{s_{i,j}^{2},j}\\|^2\\\\\n",
    "&&& + \\lambda \\mathbb{1}_{s_{i,j}^{1} \\neq s_{i,j-1}^{1}} + \\lambda \\mathbb{1}_{s_{i,j}^{2} \\neq s_{i,j-1}^{2}} \\\\\n",
    "& \\text{subject to}\n",
    "& & a_{i,j} \\in \\left[0,1\\right], h_{i,j} \\in \\lbrace 0, 1\\rbrace, s_{i,j} \\in \\lbrace 0, 1, \\ldots, k-1\\rbrace\\\\\n",
    "& & & g_{i,j} = h_{i,j}^{1} + h_{i,j}^{2}\n",
    "\\end{aligned}\n",
    "$$"
   ]
  },
  {
   "cell_type": "markdown",
   "metadata": {
    "slideshow": {
     "slide_type": "subslide"
    }
   },
   "source": [
    "# About the algorithm"
   ]
  },
  {
   "cell_type": "markdown",
   "metadata": {
    "collapsed": false,
    "slideshow": {
     "slide_type": "-"
    }
   },
   "source": [
    "* An optimization problem\n",
    "* with constraints\n",
    "* graph algorithm : forward backward"
   ]
  },
  {
   "cell_type": "raw",
   "metadata": {
    "raw_mimetype": "text/html",
    "slideshow": {
     "slide_type": "slide"
    }
   },
   "source": [
    "<image>\n",
    "</section>\n",
    "<section data-background=\"#F27C3A\" data-state=\"no-title-footer\">\n",
    "  <div class=\"divider_h1\" id=\"left\">\n",
    "  \n",
    "    <h1>Software</h1>\n",
    "  </div>\n",
    "  <div id=\"right\">\n",
    "    <img src=\"img/soft.png\"/>\n",
    "  </div>\n",
    "</section>\n",
    "</image>\n",
    "<style>\n",
    "#left {\n",
    "  left:-8.33%;\n",
    "  text-align: left;\n",
    "  float: left;\n",
    "  width:40%;\n",
    "  z-index:-10;\n",
    "}\n",
    "\n",
    "#right {\n",
    "  left:5.25%;\n",
    "  top: 75px;\n",
    "  float: left;\n",
    "  text-align: right;\n",
    "  z-index:-10;\n",
    "  width:50%;\n",
    "}\n",
    "</style>"
   ]
  },
  {
   "cell_type": "markdown",
   "metadata": {
    "slideshow": {
     "slide_type": "slide"
    }
   },
   "source": [
    "<section data-background=\"#F27C3A\" data-state=\"no-title-footer\">\n",
    "<h2> Results : Speed </h2>\n",
    "<img src=\"img/speed.png\">\n",
    "</section>\n"
   ]
  },
  {
   "cell_type": "markdown",
   "metadata": {
    "slideshow": {
     "slide_type": "subslide"
    }
   },
   "source": [
    "<section data-background=\"#F27C3A\" data-state=\"no-title-footer\">\n",
    "<h2> Results : Imputation </h2>\n",
    "<img src=\"img/imputation.png\">\n",
    "</section>"
   ]
  },
  {
   "cell_type": "markdown",
   "metadata": {
    "slideshow": {
     "slide_type": "skip"
    }
   },
   "source": [
    "### Q&A Slide"
   ]
  },
  {
   "cell_type": "raw",
   "metadata": {
    "slideshow": {
     "slide_type": "slide"
    }
   },
   "source": [
    "<image>\n",
    "</section>\n",
    "<section data-background=\"#0093C9\" data-state=\"no-title-footer\">\n",
    "  <div class=\"divider_h1\">\n",
    "    <h1>Questions???</h1>\n",
    "  </div>\n",
    "</section>\n",
    "</image>"
   ]
  }
 ],
 "metadata": {
  "celltoolbar": "Slideshow",
  "kernelspec": {
   "display_name": "Python 2",
   "language": "python",
   "name": "python2"
  },
  "language_info": {
   "codemirror_mode": {
    "name": "ipython",
    "version": 2
   },
   "file_extension": ".py",
   "mimetype": "text/x-python",
   "name": "python",
   "nbconvert_exporter": "python",
   "pygments_lexer": "ipython2",
   "version": "2.7.11"
  }
 },
 "nbformat": 4,
 "nbformat_minor": 0
}
